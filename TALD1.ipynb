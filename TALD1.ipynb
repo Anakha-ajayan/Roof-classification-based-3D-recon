{
 "cells": [
  {
   "cell_type": "code",
   "execution_count": 1,
   "metadata": {},
   "outputs": [
    {
     "name": "stdout",
     "output_type": "stream",
     "text": [
      "Jupyter environment detected. Enabling Open3D WebVisualizer.\n",
      "[Open3D INFO] WebRTC GUI backend enabled.\n",
      "[Open3D INFO] WebRTCWindowSystem: HTTP handshake server disabled.\n"
     ]
    }
   ],
   "source": [
    "import laspy\n",
    "import numpy as np\n",
    "import open3d as o3d\n",
    "\n",
    "\n",
    "# Path to your .laz file\n",
    "laz_file_path = r\"C:\\Users\\akhil\\OneDrive\\Documents\\Building_recon\\4C_block_1_2.laz\"\n",
    "\n",
    "# Read the .laz file using laspy\n",
    "las = laspy.read(laz_file_path)\n",
    "\n",
    "# Extract point cloud data\n",
    "points = np.vstack((las.x, las.y, las.z)).transpose()\n",
    "\n",
    "# Create an Open3D point cloud\n",
    "pcd = o3d.geometry.PointCloud()\n",
    "pcd.points = o3d.utility.Vector3dVector(points)\n",
    "\n",
    "# Visualize the point cloud\n",
    "o3d.visualization.draw_geometries([pcd])\n"
   ]
  },
  {
   "cell_type": "code",
   "execution_count": 2,
   "metadata": {},
   "outputs": [
    {
     "data": {
      "image/png": "[encoded data removed]",
      "text/plain": [
       "<Figure size 800x600 with 1 Axes>"
      ]
     },
     "metadata": {},
     "output_type": "display_data"
    },
    {
     "name": "stdout",
     "output_type": "stream",
     "text": [
      "Unique Classifications in C:\\Users\\akhil\\OneDrive\\Documents\\Building_recon\\4C_block_1_2.laz:\n",
      "Class 2: 2820358 points\n",
      "Class 3: 1709085 points\n",
      "Class 4: 7635965 points\n",
      "Class 5: 3764287 points\n"
     ]
    }
   ],
   "source": [
    "import laspy\n",
    "import numpy as np\n",
    "import matplotlib.pyplot as plt\n",
    "\n",
    "# Load the .laz file\n",
    "file_path = r'C:\\Users\\akhil\\OneDrive\\Documents\\Building_recon\\4C_block_1_2.laz'  # Update this with your actual file path\n",
    "las_data = laspy.read(file_path)\n",
    "\n",
    "# Get the classification data\n",
    "classification = las_data.classification\n",
    "\n",
    "# Get unique classification values\n",
    "unique_classes = np.unique(classification)\n",
    "\n",
    "# Plot the unique classification values\n",
    "plt.figure(figsize=(8, 6))\n",
    "plt.bar(unique_classes, np.bincount(classification)[unique_classes])\n",
    "plt.xlabel('Classification')\n",
    "plt.ylabel('Frequency')\n",
    "plt.title(f'Classifications in {file_path}')\n",
    "plt.show()\n",
    "\n",
    "# Print the unique classifications and their frequencies\n",
    "print(f\"Unique Classifications in {file_path}:\")\n",
    "for cls in unique_classes:\n",
    "    print(f\"Class {cls}: {np.sum(classification == cls)} points\")\n"
   ]
  },
  {
   "cell_type": "code",
   "execution_count": 3,
   "metadata": {},
   "outputs": [
    {
     "name": "stdout",
     "output_type": "stream",
     "text": [
      "<SubFieldView([5 5 5 ... 2 2 2])>\n"
     ]
    }
   ],
   "source": [
    "# Extract points and classification data\n",
    "points = np.vstack((las.x, las.y, las.z)).transpose()\n",
    "classification = las.classification\n",
    "print (classification)"
   ]
  },
  {
   "cell_type": "code",
   "execution_count": 6,
   "metadata": {},
   "outputs": [
    {
     "name": "stdout",
     "output_type": "stream",
     "text": [
      "Total points: 15929695\n",
      "Building points: 3764287\n"
     ]
    }
   ],
   "source": [
    "# Filter points classified as buildings (class 8)\n",
    "building_indices = np.where(classification == 5)[0]\n",
    "building_points = points[building_indices]\n",
    "print(f\"Total points: {points.shape[0]}\")\n",
    "print(f\"Building points: {building_points.shape[0]}\")"
   ]
  },
  {
   "cell_type": "code",
   "execution_count": 7,
   "metadata": {},
   "outputs": [],
   "source": [
    "# Create an Open3D point cloud from the filtered building points\n",
    "building_pcd = o3d.geometry.PointCloud()\n",
    "building_pcd.points = o3d.utility.Vector3dVector(building_points)\n",
    "\n",
    "# Optionally, if you have RGB values for the building points, add them\n",
    "# Uncomment the lines below if you have RGB values\n",
    "# building_colors = np.array([...])  # Replace with your RGB values corresponding to building_points\n",
    "# building_pcd.colors = o3d.utility.Vector3dVector(building_colors / 255.0)  # Normalize if RGB values are 0-255\n",
    "\n",
    "# Visualize the filtered building point cloud\n",
    "o3d.visualization.draw_geometries([building_pcd], window_name=\"Filtered Building Points\", width=800, height=600)"
   ]
  },
  {
   "cell_type": "code",
   "execution_count": 29,
   "metadata": {},
   "outputs": [
    {
     "name": "stdout",
     "output_type": "stream",
     "text": [
      "[Open3D DEBUG] Precompute neighbors.\n",
      "[Open3D DEBUG] Done Precompute neighbors.\n",
      "[Open3D DEBUG] Compute Clusters\n",
      "[Open3D DEBUG] Done Compute Clusters: 2678\n",
      "Building point cloud has 2678 clusters\n"
     ]
    }
   ],
   "source": [
    "# Perform DBSCAN clustering on the filtered building points\n",
    "with o3d.utility.VerbosityContextManager(o3d.utility.VerbosityLevel.Debug) as cm:\n",
    "    labels = np.array(building_pcd.cluster_dbscan(eps=1.6, min_points=30, print_progress=True))\n",
    "\n",
    "# Number of clusters, ignoring noise (label -1)\n",
    "max_label = labels.max()\n",
    "print(f\"Building point cloud has {max_label + 1} clusters\")"
   ]
  },
  {
   "cell_type": "code",
   "execution_count": 30,
   "metadata": {},
   "outputs": [
    {
     "data": {
      "text/plain": [
       "True"
      ]
     },
     "execution_count": 30,
     "metadata": {},
     "output_type": "execute_result"
    }
   ],
   "source": [
    "# Save the clustered point cloud\n",
    "o3d.io.write_point_cloud(\"clustered_lidar_point_cloud.ply\", building_pcd)\n"
   ]
  },
  {
   "cell_type": "code",
   "execution_count": 31,
   "metadata": {},
   "outputs": [],
   "source": [
    "# Extract clusters and visualize (optional)\n",
    "import matplotlib.pyplot as plt\n",
    "colors = plt.get_cmap(\"tab20\")(labels / (max_label if max_label > 0 else 1))\n",
    "colors[labels < 0] = 0\n",
    "building_pcd.colors = o3d.utility.Vector3dVector(colors[:, :3])"
   ]
  },
  {
   "cell_type": "code",
   "execution_count": 32,
   "metadata": {},
   "outputs": [
    {
     "name": "stdout",
     "output_type": "stream",
     "text": [
      "[Open3D WARNING] GLFW Error: WGL: Failed to make context current: The handle is invalid. \n",
      "[Open3D WARNING] GLFW Error: WGL: Failed to make context current: The requested transformation operation is not supported. \n"
     ]
    }
   ],
   "source": [
    "# Visualize the result\n",
    "o3d.visualization.draw_geometries([building_pcd], window_name='DBSCAN Clustering of LiDAR Point Cloud')"
   ]
  },
  {
   "cell_type": "code",
   "execution_count": 33,
   "metadata": {},
   "outputs": [
    {
     "name": "stdout",
     "output_type": "stream",
     "text": [
      "Building point cloud has 2678 clusters\n",
      "Saved 2678 clusters to the folder: clusters\n",
      "Displaying cluster 458\n",
      "[Open3D WARNING] GLFW Error: WGL: Failed to make context current: The requested transformation operation is not supported. \n",
      "[Open3D WARNING] GLFW Error: WGL: Failed to make context current: The requested transformation operation is not supported. \n",
      "Displaying cluster 2282\n",
      "[Open3D WARNING] GLFW Error: WGL: Failed to make context current: The handle is invalid. \n",
      "[Open3D WARNING] GLFW Error: WGL: Failed to make context current: The requested transformation operation is not supported. \n",
      "[Open3D WARNING] GLFW Error: WGL: Failed to make context current: The handle is invalid. \n",
      "[Open3D WARNING] GLFW Error: WGL: Failed to make context current: The requested transformation operation is not supported. \n",
      "[Open3D WARNING] GLFW Error: WGL: Failed to make context current: The handle is invalid. \n",
      "Displaying cluster 1260\n",
      "Displaying cluster 624\n",
      "[Open3D WARNING] GLFW Error: WGL: Failed to make context current: The requested transformation operation is not supported. \n",
      "[Open3D WARNING] GLFW Error: WGL: Failed to make context current: The handle is invalid. \n",
      "[Open3D WARNING] GLFW Error: WGL: Failed to make context current: The handle is invalid. \n",
      "[Open3D WARNING] GLFW Error: WGL: Failed to make context current: The requested transformation operation is not supported. \n",
      "[Open3D WARNING] GLFW Error: WGL: Failed to make context current: The requested transformation operation is not supported. \n",
      "[Open3D WARNING] GLFW Error: WGL: Failed to make context current: The requested transformation operation is not supported. \n",
      "[Open3D WARNING] GLFW Error: WGL: Failed to make context current: The requested transformation operation is not supported. \n",
      "Displaying cluster 2074\n",
      "[Open3D WARNING] GLFW Error: WGL: Failed to make context current: The handle is invalid. \n",
      "Displaying cluster 1888\n",
      "[Open3D WARNING] GLFW Error: WGL: Failed to make context current: The handle is invalid. \n",
      "[Open3D WARNING] GLFW Error: WGL: Failed to make context current: The handle is invalid. \n",
      "[Open3D WARNING] GLFW Error: WGL: Failed to make context current: The handle is invalid. \n",
      "[Open3D WARNING] GLFW Error: WGL: Failed to make context current: The requested transformation operation is not supported. \n",
      "Displaying cluster 2430\n",
      "[Open3D WARNING] GLFW Error: WGL: Failed to make context current: The requested transformation operation is not supported. \n",
      "Displaying cluster 6\n",
      "Displaying cluster 747\n",
      "[Open3D WARNING] GLFW Error: WGL: Failed to make context current: The handle is invalid. \n",
      "[Open3D WARNING] GLFW Error: WGL: Failed to make context current: The requested transformation operation is not supported. \n",
      "[Open3D WARNING] GLFW Error: WGL: Failed to make context current: The handle is invalid. \n",
      "Displaying cluster 1583\n",
      "[Open3D WARNING] GLFW Error: WGL: Failed to make context current: The requested transformation operation is not supported. \n",
      "[Open3D WARNING] GLFW Error: WGL: Failed to make context current: The requested transformation operation is not supported. \n",
      "[Open3D WARNING] GLFW Error: WGL: Failed to make context current: The requested transformation operation is not supported. \n",
      "[Open3D WARNING] GLFW Error: WGL: Failed to make context current: The requested transformation operation is not supported. \n",
      "[Open3D WARNING] GLFW Error: WGL: Failed to make context current: The requested transformation operation is not supported. \n",
      "[Open3D WARNING] GLFW Error: WGL: Failed to make context current: The requested transformation operation is not supported. \n",
      "Displaying cluster 2433\n",
      "[Open3D WARNING] GLFW Error: WGL: Failed to make context current: The handle is invalid. \n",
      "Displaying cluster 2104\n",
      "[Open3D WARNING] GLFW Error: WGL: Failed to make context current: The requested transformation operation is not supported. \n",
      "Displaying cluster 1448\n",
      "[Open3D WARNING] GLFW Error: WGL: Failed to make context current: The requested transformation operation is not supported. \n",
      "Displaying cluster 1302\n",
      "[Open3D WARNING] GLFW Error: WGL: Failed to make context current: The requested transformation operation is not supported. \n",
      "[Open3D WARNING] GLFW Error: WGL: Failed to make context current: The handle is invalid. \n",
      "[Open3D WARNING] GLFW Error: WGL: Failed to make context current: The handle is invalid. \n",
      "[Open3D WARNING] GLFW Error: WGL: Failed to make context current: The handle is invalid. \n",
      "Displaying cluster 947\n",
      "Displaying cluster 2525\n",
      "Displaying cluster 2100\n",
      "Displaying cluster 295\n",
      "[Open3D WARNING] GLFW Error: WGL: Failed to make context current: The handle is invalid. \n",
      "[Open3D WARNING] GLFW Error: WGL: Failed to make context current: The handle is invalid. \n",
      "Displaying cluster 1662\n",
      "[Open3D WARNING] GLFW Error: WGL: Failed to make context current: The handle is invalid. \n",
      "[Open3D WARNING] GLFW Error: WGL: Failed to make context current: The requested transformation operation is not supported. \n",
      "[Open3D WARNING] GLFW Error: WGL: Failed to make context current: The requested transformation operation is not supported. \n",
      "[Open3D WARNING] GLFW Error: WGL: Failed to make context current: The requested transformation operation is not supported. \n",
      "[Open3D WARNING] GLFW Error: WGL: Failed to make context current: The handle is invalid. \n",
      "[Open3D WARNING] GLFW Error: WGL: Failed to make context current: The requested transformation operation is not supported. \n",
      "Displaying cluster 1557\n",
      "[Open3D WARNING] GLFW Error: WGL: Failed to make context current: The requested transformation operation is not supported. \n",
      "[Open3D WARNING] GLFW Error: WGL: Failed to make context current: The handle is invalid. \n",
      "Displaying cluster 2158\n",
      "Displaying cluster 1652\n",
      "[Open3D WARNING] GLFW Error: WGL: Failed to make context current: The requested transformation operation is not supported. \n",
      "Displaying cluster 1367\n",
      "Displaying cluster 1384\n",
      "Displaying cluster 2577\n",
      "[Open3D WARNING] GLFW Error: WGL: Failed to make context current: The requested transformation operation is not supported. \n",
      "[Open3D WARNING] GLFW Error: WGL: Failed to make context current: The handle is invalid. \n",
      "Displaying cluster 42\n",
      "Displaying cluster 548\n",
      "[Open3D WARNING] GLFW Error: WGL: Failed to make context current: The requested transformation operation is not supported. \n",
      "[Open3D WARNING] GLFW Error: WGL: Failed to make context current: The requested transformation operation is not supported. \n",
      "Displaying cluster 133\n",
      "Displaying cluster 50\n",
      "[Open3D WARNING] GLFW Error: WGL: Failed to make context current: The requested transformation operation is not supported. \n",
      "[Open3D WARNING] GLFW Error: WGL: Failed to make context current: The handle is invalid. \n",
      "Displaying cluster 2404\n",
      "Displaying cluster 1078\n",
      "[Open3D WARNING] GLFW Error: WGL: Failed to make context current: The handle is invalid. \n",
      "[Open3D WARNING] GLFW Error: WGL: Failed to make context current: The handle is invalid. \n",
      "[Open3D WARNING] GLFW Error: WGL: Failed to make context current: The handle is invalid. \n",
      "[Open3D WARNING] GLFW Error: WGL: Failed to make context current: The requested transformation operation is not supported. \n",
      "Displaying cluster 2054\n",
      "Displaying cluster 2423\n",
      "Displaying cluster 2508\n",
      "Displaying cluster 812\n",
      "Displaying cluster 487\n",
      "Displaying cluster 182\n",
      "Displaying cluster 898\n",
      "Displaying cluster 1992\n",
      "Displaying cluster 984\n",
      "Displaying cluster 1690\n",
      "Displaying cluster 156\n",
      "Displaying cluster 1971\n",
      "Displaying cluster 682\n",
      "Displaying cluster 1114\n",
      "Displaying cluster 2424\n",
      "Displaying cluster 192\n",
      "Displaying cluster 530\n",
      "Displaying cluster 1944\n",
      "Displaying cluster 761\n"
     ]
    }
   ],
   "source": [
    "import numpy as np\n",
    "import os\n",
    "import random\n",
    "import open3d as o3d\n",
    "\n",
    "# Assuming clustering is already done and `labels` is available\n",
    "max_label = labels.max()\n",
    "print(f\"Building point cloud has {max_label + 1} clusters\")\n",
    "\n",
    "# Create a folder to save the clusters\n",
    "output_folder = \"clusters\"\n",
    "os.makedirs(output_folder, exist_ok=True)\n",
    "\n",
    "# Save each cluster to a file\n",
    "for i in range(max_label + 1):\n",
    "    cluster_points = building_pcd.select_by_index(np.where(labels == i)[0])\n",
    "    cluster_file = os.path.join(output_folder, f\"cluster_{i}.ply\")\n",
    "    o3d.io.write_point_cloud(cluster_file, cluster_points)\n",
    "\n",
    "print(f\"Saved {max_label + 1} clusters to the folder: {output_folder}\")\n",
    "\n",
    "# Visualize 5 random clusters in separate windows\n",
    "sampled_clusters = random.sample(range(max_label + 1), min(50, max_label + 1))\n",
    "\n",
    "for cluster_idx in sampled_clusters:\n",
    "    cluster_points = building_pcd.select_by_index(np.where(labels == cluster_idx)[0])\n",
    "    cluster_points.paint_uniform_color(np.random.rand(3))  # Random color for better visualization\n",
    "    print(f\"Displaying cluster {cluster_idx}\")\n",
    "    o3d.visualization.draw_geometries([cluster_points], window_name=f\"Cluster {cluster_idx}\")\n"
   ]
  },
  {
   "cell_type": "code",
   "execution_count": null,
   "metadata": {},
   "outputs": [],
   "source": []
  }
 ],
 "metadata": {
  "kernelspec": {
   "display_name": "Python 3",
   "language": "python",
   "name": "python3"
  },
  "language_info": {
   "codemirror_mode": {
    "name": "ipython",
    "version": 3
   },
   "file_extension": ".py",
   "mimetype": "text/x-python",
   "name": "python",
   "nbconvert_exporter": "python",
   "pygments_lexer": "ipython3",
   "version": "3.11.9"
  }
 },
 "nbformat": 4,
 "nbformat_minor": 2
}
